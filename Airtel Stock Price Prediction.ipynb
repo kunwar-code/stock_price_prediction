{
 "cells": [
  {
   "cell_type": "code",
   "execution_count": 1,
   "id": "caad7420",
   "metadata": {},
   "outputs": [],
   "source": [
    "import pandas as pd\n",
    "import numpy as np\n",
    "from matplotlib import pyplot as plt\n",
    "from datetime import datetime\n"
   ]
  },
  {
   "cell_type": "code",
   "execution_count": 2,
   "id": "ce5f5aee",
   "metadata": {},
   "outputs": [
    {
     "data": {
      "text/html": [
       "<div>\n",
       "<style scoped>\n",
       "    .dataframe tbody tr th:only-of-type {\n",
       "        vertical-align: middle;\n",
       "    }\n",
       "\n",
       "    .dataframe tbody tr th {\n",
       "        vertical-align: top;\n",
       "    }\n",
       "\n",
       "    .dataframe thead th {\n",
       "        text-align: right;\n",
       "    }\n",
       "</style>\n",
       "<table border=\"1\" class=\"dataframe\">\n",
       "  <thead>\n",
       "    <tr style=\"text-align: right;\">\n",
       "      <th></th>\n",
       "      <th>Symbol</th>\n",
       "      <th>Series</th>\n",
       "      <th>Date</th>\n",
       "      <th>Prev Close</th>\n",
       "      <th>Open Price</th>\n",
       "      <th>High Price</th>\n",
       "      <th>Low Price</th>\n",
       "      <th>Last Price</th>\n",
       "      <th>Close Price</th>\n",
       "      <th>Average Price</th>\n",
       "      <th>Total Traded Quantity</th>\n",
       "      <th>Turnover</th>\n",
       "      <th>No. of Trades</th>\n",
       "      <th>Deliverable Qty</th>\n",
       "      <th>% Dly Qt to Traded Qty</th>\n",
       "    </tr>\n",
       "  </thead>\n",
       "  <tbody>\n",
       "    <tr>\n",
       "      <th>0</th>\n",
       "      <td>BHARTIARTL</td>\n",
       "      <td>EQ</td>\n",
       "      <td>2020-08-17</td>\n",
       "      <td>528.60</td>\n",
       "      <td>530.55</td>\n",
       "      <td>532.5</td>\n",
       "      <td>518.10</td>\n",
       "      <td>520.85</td>\n",
       "      <td>521.40</td>\n",
       "      <td>523.23</td>\n",
       "      <td>19014347</td>\n",
       "      <td>9.948886e+09</td>\n",
       "      <td>211145</td>\n",
       "      <td>6393700</td>\n",
       "      <td>33.63</td>\n",
       "    </tr>\n",
       "    <tr>\n",
       "      <th>1</th>\n",
       "      <td>BHARTIARTL</td>\n",
       "      <td>EQ</td>\n",
       "      <td>2020-08-18</td>\n",
       "      <td>521.40</td>\n",
       "      <td>522.05</td>\n",
       "      <td>529.1</td>\n",
       "      <td>520.15</td>\n",
       "      <td>527.85</td>\n",
       "      <td>526.30</td>\n",
       "      <td>524.33</td>\n",
       "      <td>13517889</td>\n",
       "      <td>7.087860e+09</td>\n",
       "      <td>162875</td>\n",
       "      <td>4610638</td>\n",
       "      <td>34.11</td>\n",
       "    </tr>\n",
       "    <tr>\n",
       "      <th>2</th>\n",
       "      <td>BHARTIARTL</td>\n",
       "      <td>EQ</td>\n",
       "      <td>2020-08-19</td>\n",
       "      <td>526.30</td>\n",
       "      <td>529.00</td>\n",
       "      <td>539.9</td>\n",
       "      <td>527.10</td>\n",
       "      <td>536.00</td>\n",
       "      <td>535.85</td>\n",
       "      <td>533.14</td>\n",
       "      <td>17075491</td>\n",
       "      <td>9.103644e+09</td>\n",
       "      <td>162156</td>\n",
       "      <td>6909210</td>\n",
       "      <td>40.46</td>\n",
       "    </tr>\n",
       "    <tr>\n",
       "      <th>3</th>\n",
       "      <td>BHARTIARTL</td>\n",
       "      <td>EQ</td>\n",
       "      <td>2020-08-20</td>\n",
       "      <td>535.85</td>\n",
       "      <td>531.00</td>\n",
       "      <td>533.6</td>\n",
       "      <td>522.70</td>\n",
       "      <td>526.00</td>\n",
       "      <td>525.55</td>\n",
       "      <td>527.19</td>\n",
       "      <td>13440102</td>\n",
       "      <td>7.085519e+09</td>\n",
       "      <td>117408</td>\n",
       "      <td>5901272</td>\n",
       "      <td>43.91</td>\n",
       "    </tr>\n",
       "    <tr>\n",
       "      <th>4</th>\n",
       "      <td>BHARTIARTL</td>\n",
       "      <td>EQ</td>\n",
       "      <td>2020-08-21</td>\n",
       "      <td>525.55</td>\n",
       "      <td>529.80</td>\n",
       "      <td>529.8</td>\n",
       "      <td>516.00</td>\n",
       "      <td>519.00</td>\n",
       "      <td>520.25</td>\n",
       "      <td>521.89</td>\n",
       "      <td>21835588</td>\n",
       "      <td>1.139585e+10</td>\n",
       "      <td>205334</td>\n",
       "      <td>8336609</td>\n",
       "      <td>38.18</td>\n",
       "    </tr>\n",
       "  </tbody>\n",
       "</table>\n",
       "</div>"
      ],
      "text/plain": [
       "       Symbol Series       Date  Prev Close  Open Price  High Price  \\\n",
       "0  BHARTIARTL     EQ 2020-08-17      528.60      530.55       532.5   \n",
       "1  BHARTIARTL     EQ 2020-08-18      521.40      522.05       529.1   \n",
       "2  BHARTIARTL     EQ 2020-08-19      526.30      529.00       539.9   \n",
       "3  BHARTIARTL     EQ 2020-08-20      535.85      531.00       533.6   \n",
       "4  BHARTIARTL     EQ 2020-08-21      525.55      529.80       529.8   \n",
       "\n",
       "   Low Price  Last Price  Close Price  Average Price  Total Traded Quantity  \\\n",
       "0     518.10      520.85       521.40         523.23               19014347   \n",
       "1     520.15      527.85       526.30         524.33               13517889   \n",
       "2     527.10      536.00       535.85         533.14               17075491   \n",
       "3     522.70      526.00       525.55         527.19               13440102   \n",
       "4     516.00      519.00       520.25         521.89               21835588   \n",
       "\n",
       "       Turnover  No. of Trades  Deliverable Qty  % Dly Qt to Traded Qty  \n",
       "0  9.948886e+09         211145          6393700                   33.63  \n",
       "1  7.087860e+09         162875          4610638                   34.11  \n",
       "2  9.103644e+09         162156          6909210                   40.46  \n",
       "3  7.085519e+09         117408          5901272                   43.91  \n",
       "4  1.139585e+10         205334          8336609                   38.18  "
      ]
     },
     "execution_count": 2,
     "metadata": {},
     "output_type": "execute_result"
    }
   ],
   "source": [
    "dataparse=lambda x: datetime.strptime(x,'%d-%m-%Y')\n",
    "df1= pd.read_csv(\"BhartiAirtel.csv\",parse_dates=['Date'],date_parser=dataparse)\n",
    "df1.head()"
   ]
  },
  {
   "cell_type": "code",
   "execution_count": 3,
   "id": "2d3c41d1",
   "metadata": {
    "scrolled": true
   },
   "outputs": [
    {
     "data": {
      "text/html": [
       "<div>\n",
       "<style scoped>\n",
       "    .dataframe tbody tr th:only-of-type {\n",
       "        vertical-align: middle;\n",
       "    }\n",
       "\n",
       "    .dataframe tbody tr th {\n",
       "        vertical-align: top;\n",
       "    }\n",
       "\n",
       "    .dataframe thead th {\n",
       "        text-align: right;\n",
       "    }\n",
       "</style>\n",
       "<table border=\"1\" class=\"dataframe\">\n",
       "  <thead>\n",
       "    <tr style=\"text-align: right;\">\n",
       "      <th></th>\n",
       "      <th>Date</th>\n",
       "      <th>Prev Close</th>\n",
       "      <th>Open Price</th>\n",
       "      <th>High Price</th>\n",
       "      <th>Low Price</th>\n",
       "      <th>Last Price</th>\n",
       "      <th>Close Price</th>\n",
       "      <th>Average Price</th>\n",
       "      <th>Total Traded Quantity</th>\n",
       "      <th>No. of Trades</th>\n",
       "      <th>Deliverable Qty</th>\n",
       "    </tr>\n",
       "  </thead>\n",
       "  <tbody>\n",
       "    <tr>\n",
       "      <th>0</th>\n",
       "      <td>2020-08-17</td>\n",
       "      <td>528.60</td>\n",
       "      <td>530.55</td>\n",
       "      <td>532.5</td>\n",
       "      <td>518.10</td>\n",
       "      <td>520.85</td>\n",
       "      <td>521.40</td>\n",
       "      <td>523.23</td>\n",
       "      <td>19014347</td>\n",
       "      <td>211145</td>\n",
       "      <td>6393700</td>\n",
       "    </tr>\n",
       "    <tr>\n",
       "      <th>1</th>\n",
       "      <td>2020-08-18</td>\n",
       "      <td>521.40</td>\n",
       "      <td>522.05</td>\n",
       "      <td>529.1</td>\n",
       "      <td>520.15</td>\n",
       "      <td>527.85</td>\n",
       "      <td>526.30</td>\n",
       "      <td>524.33</td>\n",
       "      <td>13517889</td>\n",
       "      <td>162875</td>\n",
       "      <td>4610638</td>\n",
       "    </tr>\n",
       "    <tr>\n",
       "      <th>2</th>\n",
       "      <td>2020-08-19</td>\n",
       "      <td>526.30</td>\n",
       "      <td>529.00</td>\n",
       "      <td>539.9</td>\n",
       "      <td>527.10</td>\n",
       "      <td>536.00</td>\n",
       "      <td>535.85</td>\n",
       "      <td>533.14</td>\n",
       "      <td>17075491</td>\n",
       "      <td>162156</td>\n",
       "      <td>6909210</td>\n",
       "    </tr>\n",
       "    <tr>\n",
       "      <th>3</th>\n",
       "      <td>2020-08-20</td>\n",
       "      <td>535.85</td>\n",
       "      <td>531.00</td>\n",
       "      <td>533.6</td>\n",
       "      <td>522.70</td>\n",
       "      <td>526.00</td>\n",
       "      <td>525.55</td>\n",
       "      <td>527.19</td>\n",
       "      <td>13440102</td>\n",
       "      <td>117408</td>\n",
       "      <td>5901272</td>\n",
       "    </tr>\n",
       "    <tr>\n",
       "      <th>4</th>\n",
       "      <td>2020-08-21</td>\n",
       "      <td>525.55</td>\n",
       "      <td>529.80</td>\n",
       "      <td>529.8</td>\n",
       "      <td>516.00</td>\n",
       "      <td>519.00</td>\n",
       "      <td>520.25</td>\n",
       "      <td>521.89</td>\n",
       "      <td>21835588</td>\n",
       "      <td>205334</td>\n",
       "      <td>8336609</td>\n",
       "    </tr>\n",
       "  </tbody>\n",
       "</table>\n",
       "</div>"
      ],
      "text/plain": [
       "        Date  Prev Close  Open Price  High Price  Low Price  Last Price  \\\n",
       "0 2020-08-17      528.60      530.55       532.5     518.10      520.85   \n",
       "1 2020-08-18      521.40      522.05       529.1     520.15      527.85   \n",
       "2 2020-08-19      526.30      529.00       539.9     527.10      536.00   \n",
       "3 2020-08-20      535.85      531.00       533.6     522.70      526.00   \n",
       "4 2020-08-21      525.55      529.80       529.8     516.00      519.00   \n",
       "\n",
       "   Close Price  Average Price  Total Traded Quantity  No. of Trades  \\\n",
       "0       521.40         523.23               19014347         211145   \n",
       "1       526.30         524.33               13517889         162875   \n",
       "2       535.85         533.14               17075491         162156   \n",
       "3       525.55         527.19               13440102         117408   \n",
       "4       520.25         521.89               21835588         205334   \n",
       "\n",
       "   Deliverable Qty  \n",
       "0          6393700  \n",
       "1          4610638  \n",
       "2          6909210  \n",
       "3          5901272  \n",
       "4          8336609  "
      ]
     },
     "execution_count": 3,
     "metadata": {},
     "output_type": "execute_result"
    }
   ],
   "source": [
    "df2=df1.drop(['% Dly Qt to Traded Qty','Series','Turnover','Symbol'],axis='columns')\n",
    "df2.head()"
   ]
  },
  {
   "cell_type": "code",
   "execution_count": 4,
   "id": "282eb0da",
   "metadata": {},
   "outputs": [
    {
     "data": {
      "text/plain": [
       "Date                     0\n",
       "Prev Close               0\n",
       "Open Price               0\n",
       "High Price               0\n",
       "Low Price                0\n",
       "Last Price               0\n",
       "Close Price              0\n",
       "Average Price            0\n",
       "Total Traded Quantity    0\n",
       "No. of Trades            0\n",
       "Deliverable Qty          0\n",
       "dtype: int64"
      ]
     },
     "execution_count": 4,
     "metadata": {},
     "output_type": "execute_result"
    }
   ],
   "source": [
    "df2.isnull().sum()\n"
   ]
  },
  {
   "cell_type": "code",
   "execution_count": 5,
   "id": "f857a1fe",
   "metadata": {},
   "outputs": [
    {
     "data": {
      "image/png": "[encoded data removed]",
      "text/plain": [
       "<Figure size 432x288 with 1 Axes>"
      ]
     },
     "metadata": {
      "needs_background": "light"
     },
     "output_type": "display_data"
    }
   ],
   "source": [
    "plt.plot(df2['Date'],df2['Close Price'])\n",
    "plt.show()"
   ]
  },
  {
   "cell_type": "code",
   "execution_count": 6,
   "id": "45fce3db",
   "metadata": {},
   "outputs": [
    {
     "data": {
      "text/plain": [
       "pandas._libs.tslibs.timestamps.Timestamp"
      ]
     },
     "execution_count": 6,
     "metadata": {},
     "output_type": "execute_result"
    }
   ],
   "source": [
    "type(df2.Date[0])"
   ]
  },
  {
   "cell_type": "code",
   "execution_count": 7,
   "id": "9a0069f0",
   "metadata": {},
   "outputs": [],
   "source": [
    "airtel_close=df2['Close Price']"
   ]
  },
  {
   "cell_type": "code",
   "execution_count": 8,
   "id": "c50a7378",
   "metadata": {},
   "outputs": [
    {
     "data": {
      "text/plain": [
       "(497,)"
      ]
     },
     "execution_count": 8,
     "metadata": {},
     "output_type": "execute_result"
    }
   ],
   "source": [
    "airtel_close.reset_index(drop=True,inplace=True)\n",
    "airtel_close.shape"
   ]
  },
  {
   "cell_type": "code",
   "execution_count": 9,
   "id": "ef21232b",
   "metadata": {},
   "outputs": [],
   "source": [
    "airtel_close=pd.DataFrame(airtel_close)"
   ]
  },
  {
   "cell_type": "code",
   "execution_count": 10,
   "id": "41247d9e",
   "metadata": {},
   "outputs": [],
   "source": [
    "train=airtel_close.iloc[:480]\n",
    "test=airtel_close.iloc[480:]"
   ]
  },
  {
   "cell_type": "code",
   "execution_count": 11,
   "id": "7795d02c",
   "metadata": {},
   "outputs": [
    {
     "data": {
      "text/plain": [
       "MinMaxScaler()"
      ]
     },
     "execution_count": 11,
     "metadata": {},
     "output_type": "execute_result"
    }
   ],
   "source": [
    "from sklearn.preprocessing import MinMaxScaler\n",
    "scaler=MinMaxScaler()\n",
    "scaler.fit(train)"
   ]
  },
  {
   "cell_type": "code",
   "execution_count": 12,
   "id": "9bdd8f2b",
   "metadata": {},
   "outputs": [],
   "source": [
    "scaled_train=scaler.transform(train)\n",
    "scaled_test=scaler.transform(test)"
   ]
  },
  {
   "cell_type": "code",
   "execution_count": 13,
   "id": "ab075ac3",
   "metadata": {},
   "outputs": [],
   "source": [
    "from tensorflow.keras.preprocessing.sequence import TimeseriesGenerator"
   ]
  },
  {
   "cell_type": "code",
   "execution_count": 14,
   "id": "c124877a",
   "metadata": {},
   "outputs": [
    {
     "data": {
      "text/plain": [
       "(17, 1)"
      ]
     },
     "execution_count": 14,
     "metadata": {},
     "output_type": "execute_result"
    }
   ],
   "source": [
    "test.shape"
   ]
  },
  {
   "cell_type": "code",
   "execution_count": 15,
   "id": "b79f1ff3",
   "metadata": {},
   "outputs": [],
   "source": [
    "length = 17\n",
    "batch_size=32\n",
    "generator = TimeseriesGenerator(scaled_train,scaled_train,\n",
    "                                length=length,batch_size=batch_size )"
   ]
  },
  {
   "cell_type": "code",
   "execution_count": 16,
   "id": "2aff0718",
   "metadata": {},
   "outputs": [],
   "source": [
    "from tensorflow.keras.models import Sequential\n",
    "from tensorflow.keras.layers import Dense,SimpleRNN,LSTM, Dropout\n",
    "n_features=1"
   ]
  },
  {
   "cell_type": "code",
   "execution_count": 17,
   "id": "f35a33df",
   "metadata": {},
   "outputs": [],
   "source": [
    "model= Sequential()\n",
    "model.add(SimpleRNN(30,input_shape=(length,n_features)))\n",
    "model.add(Dropout(rate=0.2))\n",
    "model.add(Dense(1))\n",
    "model.compile(optimizer='adam',loss='mse')"
   ]
  },
  {
   "cell_type": "code",
   "execution_count": 18,
   "id": "a961b0c3",
   "metadata": {},
   "outputs": [
    {
     "name": "stdout",
     "output_type": "stream",
     "text": [
      "Model: \"sequential\"\n",
      "_________________________________________________________________\n",
      " Layer (type)                Output Shape              Param #   \n",
      "=================================================================\n",
      " simple_rnn (SimpleRNN)      (None, 30)                960       \n",
      "                                                                 \n",
      " dropout (Dropout)           (None, 30)                0         \n",
      "                                                                 \n",
      " dense (Dense)               (None, 1)                 31        \n",
      "                                                                 \n",
      "=================================================================\n",
      "Total params: 991\n",
      "Trainable params: 991\n",
      "Non-trainable params: 0\n",
      "_________________________________________________________________\n"
     ]
    }
   ],
   "source": [
    "model.summary()"
   ]
  },
  {
   "cell_type": "code",
   "execution_count": 19,
   "id": "d5184ecc",
   "metadata": {},
   "outputs": [
    {
     "name": "stderr",
     "output_type": "stream",
     "text": [
      "C:\\Users\\a\\AppData\\Local\\Temp\\ipykernel_16212\\3531706309.py:1: UserWarning: `Model.fit_generator` is deprecated and will be removed in a future version. Please use `Model.fit`, which supports generators.\n",
      "  model.fit_generator(generator,epochs=10,shuffle=False)\n"
     ]
    },
    {
     "name": "stdout",
     "output_type": "stream",
     "text": [
      "Epoch 1/10\n",
      "15/15 [==============================] - 3s 8ms/step - loss: 0.1657\n",
      "Epoch 2/10\n",
      "15/15 [==============================] - 0s 8ms/step - loss: 0.1188\n",
      "Epoch 3/10\n",
      "15/15 [==============================] - 0s 8ms/step - loss: 0.0364\n",
      "Epoch 4/10\n",
      "15/15 [==============================] - 0s 8ms/step - loss: 0.0242\n",
      "Epoch 5/10\n",
      "15/15 [==============================] - 0s 8ms/step - loss: 0.0203\n",
      "Epoch 6/10\n",
      "15/15 [==============================] - 0s 8ms/step - loss: 0.0171\n",
      "Epoch 7/10\n",
      "15/15 [==============================] - 0s 7ms/step - loss: 0.0154\n",
      "Epoch 8/10\n",
      "15/15 [==============================] - 0s 8ms/step - loss: 0.0141\n",
      "Epoch 9/10\n",
      "15/15 [==============================] - 0s 8ms/step - loss: 0.0139\n",
      "Epoch 10/10\n",
      "15/15 [==============================] - 0s 7ms/step - loss: 0.0121\n"
     ]
    },
    {
     "data": {
      "text/plain": [
       "<keras.callbacks.History at 0x28297693f70>"
      ]
     },
     "execution_count": 19,
     "metadata": {},
     "output_type": "execute_result"
    }
   ],
   "source": [
    "model.fit_generator(generator,epochs=10,shuffle=False)"
   ]
  },
  {
   "cell_type": "code",
   "execution_count": 20,
   "id": "2ddb8902",
   "metadata": {},
   "outputs": [],
   "source": [
    "first_eval_batch=scaled_train[-length:]"
   ]
  },
  {
   "cell_type": "code",
   "execution_count": 21,
   "id": "2dd00ecb",
   "metadata": {},
   "outputs": [
    {
     "data": {
      "text/plain": [
       "array([[0.75737531],\n",
       "       [0.74996693],\n",
       "       [0.76756185],\n",
       "       [0.76002117],\n",
       "       [0.72959386],\n",
       "       [0.75195132],\n",
       "       [0.75869824],\n",
       "       [0.78383384],\n",
       "       [0.76491599],\n",
       "       [0.78700886],\n",
       "       [0.69546236],\n",
       "       [0.7019447 ],\n",
       "       [0.65035058],\n",
       "       [0.64545575],\n",
       "       [0.67231115],\n",
       "       [0.70207699],\n",
       "       [0.72813864]])"
      ]
     },
     "execution_count": 21,
     "metadata": {},
     "output_type": "execute_result"
    }
   ],
   "source": [
    "first_eval_batch"
   ]
  },
  {
   "cell_type": "code",
   "execution_count": 22,
   "id": "bc701497",
   "metadata": {},
   "outputs": [],
   "source": [
    "first_eval_batch=first_eval_batch.reshape((1,length,1))"
   ]
  },
  {
   "cell_type": "code",
   "execution_count": 23,
   "id": "0d4d1907",
   "metadata": {},
   "outputs": [
    {
     "data": {
      "text/plain": [
       "array([[[0.75737531],\n",
       "        [0.74996693],\n",
       "        [0.76756185],\n",
       "        [0.76002117],\n",
       "        [0.72959386],\n",
       "        [0.75195132],\n",
       "        [0.75869824],\n",
       "        [0.78383384],\n",
       "        [0.76491599],\n",
       "        [0.78700886],\n",
       "        [0.69546236],\n",
       "        [0.7019447 ],\n",
       "        [0.65035058],\n",
       "        [0.64545575],\n",
       "        [0.67231115],\n",
       "        [0.70207699],\n",
       "        [0.72813864]]])"
      ]
     },
     "execution_count": 23,
     "metadata": {},
     "output_type": "execute_result"
    }
   ],
   "source": [
    "first_eval_batch"
   ]
  },
  {
   "cell_type": "code",
   "execution_count": 24,
   "id": "7a5bdb12",
   "metadata": {},
   "outputs": [
    {
     "name": "stdout",
     "output_type": "stream",
     "text": [
      "1/1 [==============================] - 0s 492ms/step\n"
     ]
    },
    {
     "data": {
      "text/plain": [
       "array([[0.6400799]], dtype=float32)"
      ]
     },
     "execution_count": 24,
     "metadata": {},
     "output_type": "execute_result"
    }
   ],
   "source": [
    "model.predict(first_eval_batch)"
   ]
  },
  {
   "cell_type": "code",
   "execution_count": 25,
   "id": "27de0163",
   "metadata": {},
   "outputs": [
    {
     "name": "stdout",
     "output_type": "stream",
     "text": [
      "1/1 [==============================] - 0s 46ms/step\n",
      "1/1 [==============================] - 0s 43ms/step\n",
      "1/1 [==============================] - 0s 49ms/step\n",
      "1/1 [==============================] - 0s 43ms/step\n",
      "1/1 [==============================] - 0s 44ms/step\n",
      "1/1 [==============================] - 0s 40ms/step\n",
      "1/1 [==============================] - 0s 35ms/step\n",
      "1/1 [==============================] - 0s 45ms/step\n",
      "1/1 [==============================] - 0s 46ms/step\n",
      "1/1 [==============================] - 0s 40ms/step\n",
      "1/1 [==============================] - 0s 46ms/step\n",
      "1/1 [==============================] - 0s 46ms/step\n",
      "1/1 [==============================] - 0s 46ms/step\n",
      "1/1 [==============================] - 0s 51ms/step\n",
      "1/1 [==============================] - 0s 44ms/step\n",
      "1/1 [==============================] - 0s 48ms/step\n",
      "1/1 [==============================] - 0s 47ms/step\n"
     ]
    }
   ],
   "source": [
    "test_predictions=[]\n",
    "first_eval_batch=scaled_train[-length:]\n",
    "current_batch=first_eval_batch.reshape((1,length,1))\n",
    "for i in range(len(test)):\n",
    "    current_pred=model.predict(current_batch)[0]\n",
    "    test_predictions.append(current_pred)\n",
    "    current_batch=np.append(current_batch[:,1:,:],[[current_pred]],axis=1)"
   ]
  },
  {
   "cell_type": "code",
   "execution_count": 26,
   "id": "db53a3c0",
   "metadata": {},
   "outputs": [
    {
     "data": {
      "text/plain": [
       "[array([0.6400799], dtype=float32),\n",
       " array([0.65041625], dtype=float32),\n",
       " array([0.75188386], dtype=float32),\n",
       " array([0.8013905], dtype=float32),\n",
       " array([0.694301], dtype=float32),\n",
       " array([0.5995021], dtype=float32),\n",
       " array([0.67044973], dtype=float32),\n",
       " array([0.7666628], dtype=float32),\n",
       " array([0.78162634], dtype=float32),\n",
       " array([0.6929318], dtype=float32),\n",
       " array([0.58115286], dtype=float32),\n",
       " array([0.5989494], dtype=float32),\n",
       " array([0.7504638], dtype=float32),\n",
       " array([0.861905], dtype=float32),\n",
       " array([0.6823284], dtype=float32),\n",
       " array([0.430828], dtype=float32),\n",
       " array([0.5006761], dtype=float32)]"
      ]
     },
     "execution_count": 26,
     "metadata": {},
     "output_type": "execute_result"
    }
   ],
   "source": [
    "test_predictions"
   ]
  },
  {
   "cell_type": "code",
   "execution_count": 27,
   "id": "9bc73b40",
   "metadata": {},
   "outputs": [],
   "source": [
    "true_predictions=scaler.inverse_transform(test_predictions)"
   ]
  },
  {
   "cell_type": "code",
   "execution_count": 28,
   "id": "1f8c9970",
   "metadata": {},
   "outputs": [
    {
     "data": {
      "text/plain": [
       "array([[639.61820407],\n",
       "       [643.52482358],\n",
       "       [681.87450655],\n",
       "       [700.58555031],\n",
       "       [660.11106642],\n",
       "       [624.28181365],\n",
       "       [651.09647686],\n",
       "       [687.46019637],\n",
       "       [693.11567661],\n",
       "       [659.59356295],\n",
       "       [617.34672206],\n",
       "       [624.07291544],\n",
       "       [681.33778706],\n",
       "       [723.45698672],\n",
       "       [655.58601991],\n",
       "       [560.53144452],\n",
       "       [586.93053029]])"
      ]
     },
     "execution_count": 28,
     "metadata": {},
     "output_type": "execute_result"
    }
   ],
   "source": [
    "true_predictions"
   ]
  },
  {
   "cell_type": "code",
   "execution_count": 29,
   "id": "eb7b835d",
   "metadata": {},
   "outputs": [
    {
     "name": "stderr",
     "output_type": "stream",
     "text": [
      "C:\\Users\\a\\AppData\\Local\\Temp\\ipykernel_16212\\2081619921.py:1: SettingWithCopyWarning: \n",
      "A value is trying to be set on a copy of a slice from a DataFrame.\n",
      "Try using .loc[row_indexer,col_indexer] = value instead\n",
      "\n",
      "See the caveats in the documentation: https://pandas.pydata.org/pandas-docs/stable/user_guide/indexing.html#returning-a-view-versus-a-copy\n",
      "  test['predictions']=true_predictions\n"
     ]
    }
   ],
   "source": [
    "test['predictions']=true_predictions"
   ]
  },
  {
   "cell_type": "code",
   "execution_count": 30,
   "id": "ba91a09c",
   "metadata": {},
   "outputs": [
    {
     "data": {
      "text/html": [
       "<div>\n",
       "<style scoped>\n",
       "    .dataframe tbody tr th:only-of-type {\n",
       "        vertical-align: middle;\n",
       "    }\n",
       "\n",
       "    .dataframe tbody tr th {\n",
       "        vertical-align: top;\n",
       "    }\n",
       "\n",
       "    .dataframe thead th {\n",
       "        text-align: right;\n",
       "    }\n",
       "</style>\n",
       "<table border=\"1\" class=\"dataframe\">\n",
       "  <thead>\n",
       "    <tr style=\"text-align: right;\">\n",
       "      <th></th>\n",
       "      <th>Close Price</th>\n",
       "      <th>predictions</th>\n",
       "    </tr>\n",
       "  </thead>\n",
       "  <tbody>\n",
       "    <tr>\n",
       "      <th>480</th>\n",
       "      <td>670.65</td>\n",
       "      <td>639.618204</td>\n",
       "    </tr>\n",
       "    <tr>\n",
       "      <th>481</th>\n",
       "      <td>678.35</td>\n",
       "      <td>643.524824</td>\n",
       "    </tr>\n",
       "    <tr>\n",
       "      <th>482</th>\n",
       "      <td>678.85</td>\n",
       "      <td>681.874507</td>\n",
       "    </tr>\n",
       "    <tr>\n",
       "      <th>483</th>\n",
       "      <td>678.40</td>\n",
       "      <td>700.585550</td>\n",
       "    </tr>\n",
       "    <tr>\n",
       "      <th>484</th>\n",
       "      <td>684.10</td>\n",
       "      <td>660.111066</td>\n",
       "    </tr>\n",
       "    <tr>\n",
       "      <th>485</th>\n",
       "      <td>674.90</td>\n",
       "      <td>624.281814</td>\n",
       "    </tr>\n",
       "    <tr>\n",
       "      <th>486</th>\n",
       "      <td>666.85</td>\n",
       "      <td>651.096477</td>\n",
       "    </tr>\n",
       "    <tr>\n",
       "      <th>487</th>\n",
       "      <td>677.95</td>\n",
       "      <td>687.460196</td>\n",
       "    </tr>\n",
       "    <tr>\n",
       "      <th>488</th>\n",
       "      <td>694.45</td>\n",
       "      <td>693.115677</td>\n",
       "    </tr>\n",
       "    <tr>\n",
       "      <th>489</th>\n",
       "      <td>686.80</td>\n",
       "      <td>659.593563</td>\n",
       "    </tr>\n",
       "    <tr>\n",
       "      <th>490</th>\n",
       "      <td>693.15</td>\n",
       "      <td>617.346722</td>\n",
       "    </tr>\n",
       "    <tr>\n",
       "      <th>491</th>\n",
       "      <td>694.30</td>\n",
       "      <td>624.072915</td>\n",
       "    </tr>\n",
       "    <tr>\n",
       "      <th>492</th>\n",
       "      <td>703.65</td>\n",
       "      <td>681.337787</td>\n",
       "    </tr>\n",
       "    <tr>\n",
       "      <th>493</th>\n",
       "      <td>704.35</td>\n",
       "      <td>723.456987</td>\n",
       "    </tr>\n",
       "    <tr>\n",
       "      <th>494</th>\n",
       "      <td>715.25</td>\n",
       "      <td>655.586020</td>\n",
       "    </tr>\n",
       "    <tr>\n",
       "      <th>495</th>\n",
       "      <td>709.80</td>\n",
       "      <td>560.531445</td>\n",
       "    </tr>\n",
       "    <tr>\n",
       "      <th>496</th>\n",
       "      <td>709.70</td>\n",
       "      <td>586.930530</td>\n",
       "    </tr>\n",
       "  </tbody>\n",
       "</table>\n",
       "</div>"
      ],
      "text/plain": [
       "     Close Price  predictions\n",
       "480       670.65   639.618204\n",
       "481       678.35   643.524824\n",
       "482       678.85   681.874507\n",
       "483       678.40   700.585550\n",
       "484       684.10   660.111066\n",
       "485       674.90   624.281814\n",
       "486       666.85   651.096477\n",
       "487       677.95   687.460196\n",
       "488       694.45   693.115677\n",
       "489       686.80   659.593563\n",
       "490       693.15   617.346722\n",
       "491       694.30   624.072915\n",
       "492       703.65   681.337787\n",
       "493       704.35   723.456987\n",
       "494       715.25   655.586020\n",
       "495       709.80   560.531445\n",
       "496       709.70   586.930530"
      ]
     },
     "execution_count": 30,
     "metadata": {},
     "output_type": "execute_result"
    }
   ],
   "source": [
    "test"
   ]
  },
  {
   "cell_type": "code",
   "execution_count": 31,
   "id": "4048ac38",
   "metadata": {},
   "outputs": [
    {
     "data": {
      "text/plain": [
       "<AxesSubplot:>"
      ]
     },
     "execution_count": 31,
     "metadata": {},
     "output_type": "execute_result"
    },
    {
     "data": {
      "image/png": "[encoded data removed]",
      "text/plain": [
       "<Figure size 864x576 with 1 Axes>"
      ]
     },
     "metadata": {
      "needs_background": "light"
     },
     "output_type": "display_data"
    },
    {
     "data": {
      "image/png": "[encoded data removed]",
      "text/plain": [
       "<Figure size 432x288 with 1 Axes>"
      ]
     },
     "metadata": {
      "needs_background": "light"
     },
     "output_type": "display_data"
    }
   ],
   "source": [
    "test.plot(figsize=(12,8))\n",
    "airtel_close.plot()"
   ]
  },
  {
   "cell_type": "code",
   "execution_count": 32,
   "id": "d0d40656",
   "metadata": {},
   "outputs": [],
   "source": [
    "full_scaler=MinMaxScaler()\n",
    "scaled_full_data=full_scaler.fit_transform(airtel_close)"
   ]
  },
  {
   "cell_type": "code",
   "execution_count": 33,
   "id": "795bf3ef",
   "metadata": {},
   "outputs": [],
   "source": [
    "generator = TimeseriesGenerator(scaled_full_data,scaled_full_data,length=16,\n",
    "                                batch_size=32 )"
   ]
  },
  {
   "cell_type": "code",
   "execution_count": 34,
   "id": "19344e73",
   "metadata": {},
   "outputs": [],
   "source": [
    "model= Sequential()\n",
    "model.add(SimpleRNN(30,input_shape=(length,n_features)))\n",
    "model.add(Dropout(rate=0.2))\n",
    "model.add(Dense(1))\n",
    "model.compile(optimizer='adam',loss='mse')"
   ]
  },
  {
   "cell_type": "code",
   "execution_count": 35,
   "id": "91f735d3",
   "metadata": {
    "scrolled": true
   },
   "outputs": [
    {
     "name": "stdout",
     "output_type": "stream",
     "text": [
      "Epoch 1/10\n"
     ]
    },
    {
     "name": "stderr",
     "output_type": "stream",
     "text": [
      "C:\\Users\\a\\AppData\\Local\\Temp\\ipykernel_16212\\3531706309.py:1: UserWarning: `Model.fit_generator` is deprecated and will be removed in a future version. Please use `Model.fit`, which supports generators.\n",
      "  model.fit_generator(generator,epochs=10,shuffle=False)\n"
     ]
    },
    {
     "name": "stdout",
     "output_type": "stream",
     "text": [
      "16/16 [==============================] - 3s 8ms/step - loss: 0.0803\n",
      "Epoch 2/10\n",
      "16/16 [==============================] - 0s 8ms/step - loss: 0.1237\n",
      "Epoch 3/10\n",
      "16/16 [==============================] - 0s 7ms/step - loss: 0.0196\n",
      "Epoch 4/10\n",
      "16/16 [==============================] - 0s 8ms/step - loss: 0.0216\n",
      "Epoch 5/10\n",
      "16/16 [==============================] - 0s 8ms/step - loss: 0.0160\n",
      "Epoch 6/10\n",
      "16/16 [==============================] - 0s 7ms/step - loss: 0.0144\n",
      "Epoch 7/10\n",
      "16/16 [==============================] - 0s 7ms/step - loss: 0.0129\n",
      "Epoch 8/10\n",
      "16/16 [==============================] - 0s 8ms/step - loss: 0.0121\n",
      "Epoch 9/10\n",
      "16/16 [==============================] - 0s 7ms/step - loss: 0.0123\n",
      "Epoch 10/10\n",
      "16/16 [==============================] - 0s 7ms/step - loss: 0.0124\n"
     ]
    },
    {
     "data": {
      "text/plain": [
       "<keras.callbacks.History at 0x2829a4cc0a0>"
      ]
     },
     "execution_count": 35,
     "metadata": {},
     "output_type": "execute_result"
    }
   ],
   "source": [
    "model.fit_generator(generator,epochs=10,shuffle=False)"
   ]
  },
  {
   "cell_type": "code",
   "execution_count": 36,
   "id": "e1c9f768",
   "metadata": {
    "scrolled": false
   },
   "outputs": [
    {
     "data": {
      "text/plain": [
       "<AxesSubplot:>"
      ]
     },
     "execution_count": 36,
     "metadata": {},
     "output_type": "execute_result"
    },
    {
     "data": {
      "image/png": "[encoded data removed]",
      "text/plain": [
       "<Figure size 432x288 with 1 Axes>"
      ]
     },
     "metadata": {
      "needs_background": "light"
     },
     "output_type": "display_data"
    }
   ],
   "source": [
    "full_model_losses=pd.DataFrame(model.history.history)\n",
    "full_model_losses.plot()"
   ]
  },
  {
   "cell_type": "code",
   "execution_count": 37,
   "id": "35a80e2a",
   "metadata": {},
   "outputs": [
    {
     "name": "stdout",
     "output_type": "stream",
     "text": [
      "1/1 [==============================] - 0s 410ms/step\n",
      "1/1 [==============================] - 0s 53ms/step\n",
      "1/1 [==============================] - 0s 44ms/step\n",
      "1/1 [==============================] - 0s 45ms/step\n",
      "1/1 [==============================] - 0s 45ms/step\n",
      "1/1 [==============================] - 0s 45ms/step\n",
      "1/1 [==============================] - 0s 42ms/step\n",
      "1/1 [==============================] - 0s 39ms/step\n",
      "1/1 [==============================] - 0s 45ms/step\n",
      "1/1 [==============================] - 0s 40ms/step\n",
      "1/1 [==============================] - 0s 41ms/step\n",
      "1/1 [==============================] - 0s 39ms/step\n",
      "1/1 [==============================] - 0s 41ms/step\n",
      "1/1 [==============================] - 0s 43ms/step\n",
      "1/1 [==============================] - 0s 47ms/step\n",
      "1/1 [==============================] - 0s 45ms/step\n",
      "1/1 [==============================] - 0s 47ms/step\n",
      "1/1 [==============================] - 0s 44ms/step\n",
      "1/1 [==============================] - 0s 51ms/step\n",
      "1/1 [==============================] - 0s 50ms/step\n"
     ]
    }
   ],
   "source": [
    "forecast=[]\n",
    "first_eval_batch=scaled_train[-length:]\n",
    "current_batch=first_eval_batch.reshape((1,length,n_features))\n",
    "for i in range(20):\n",
    "    current_pred=model.predict(current_batch)[0]\n",
    "    forecast.append(current_pred)\n",
    "    current_batch=np.append(current_batch[:,1:,:],[[current_pred]],axis=1)"
   ]
  },
  {
   "cell_type": "code",
   "execution_count": 38,
   "id": "5c78368e",
   "metadata": {},
   "outputs": [],
   "source": [
    "forecast=scaler.inverse_transform(forecast)"
   ]
  },
  {
   "cell_type": "code",
   "execution_count": 39,
   "id": "9a219786",
   "metadata": {},
   "outputs": [
    {
     "data": {
      "text/plain": [
       "array([[577.80074598],\n",
       "       [558.41359335],\n",
       "       [557.37169299],\n",
       "       [545.64122399],\n",
       "       [532.39957143],\n",
       "       [523.16764709],\n",
       "       [467.35180544],\n",
       "       [440.87876727],\n",
       "       [421.06564213],\n",
       "       [403.33842969],\n",
       "       [381.75292642],\n",
       "       [354.26188683],\n",
       "       [331.57304487],\n",
       "       [290.06618414],\n",
       "       [258.78297358],\n",
       "       [251.10220798],\n",
       "       [208.70808179],\n",
       "       [190.18651747],\n",
       "       [179.56427001],\n",
       "       [145.62546379]])"
      ]
     },
     "execution_count": 39,
     "metadata": {},
     "output_type": "execute_result"
    }
   ],
   "source": [
    "forecast"
   ]
  },
  {
   "cell_type": "code",
   "execution_count": 40,
   "id": "e3513fc3",
   "metadata": {},
   "outputs": [
    {
     "data": {
      "text/plain": [
       "array([577.80074598, 558.41359335, 557.37169299, 545.64122399,\n",
       "       532.39957143, 523.16764709, 467.35180544, 440.87876727,\n",
       "       421.06564213, 403.33842969, 381.75292642, 354.26188683,\n",
       "       331.57304487, 290.06618414, 258.78297358, 251.10220798,\n",
       "       208.70808179, 190.18651747, 179.56427001, 145.62546379])"
      ]
     },
     "execution_count": 40,
     "metadata": {},
     "output_type": "execute_result"
    }
   ],
   "source": [
    "forecast.flatten()"
   ]
  },
  {
   "cell_type": "code",
   "execution_count": 41,
   "id": "97fb7723",
   "metadata": {},
   "outputs": [
    {
     "data": {
      "text/plain": [
       "array([[521.4 ],\n",
       "       [526.3 ],\n",
       "       [535.85],\n",
       "       [525.55],\n",
       "       [520.25],\n",
       "       [526.9 ],\n",
       "       [528.65],\n",
       "       [514.5 ],\n",
       "       [511.15],\n",
       "       [523.45],\n",
       "       [513.1 ],\n",
       "       [546.25],\n",
       "       [550.55],\n",
       "       [538.  ],\n",
       "       [523.15],\n",
       "       [515.45],\n",
       "       [498.1 ],\n",
       "       [504.25],\n",
       "       [497.35],\n",
       "       [491.65],\n",
       "       [474.1 ],\n",
       "       [485.55],\n",
       "       [481.75],\n",
       "       [479.  ],\n",
       "       [494.55],\n",
       "       [467.75],\n",
       "       [470.95],\n",
       "       [433.8 ],\n",
       "       [419.3 ],\n",
       "       [439.65],\n",
       "       [443.65],\n",
       "       [435.6 ],\n",
       "       [420.95],\n",
       "       [432.35],\n",
       "       [424.45],\n",
       "       [426.75],\n",
       "       [422.45],\n",
       "       [424.45],\n",
       "       [425.2 ],\n",
       "       [415.05],\n",
       "       [415.3 ],\n",
       "       [413.25],\n",
       "       [399.2 ],\n",
       "       [401.65],\n",
       "       [397.7 ],\n",
       "       [405.  ],\n",
       "       [419.  ],\n",
       "       [430.65],\n",
       "       [434.4 ],\n",
       "       [434.05],\n",
       "       [433.35],\n",
       "       [451.85],\n",
       "       [450.8 ],\n",
       "       [433.75],\n",
       "       [457.4 ],\n",
       "       [454.6 ],\n",
       "       [453.05],\n",
       "       [457.3 ],\n",
       "       [449.9 ],\n",
       "       [471.8 ],\n",
       "       [466.4 ],\n",
       "       [478.6 ],\n",
       "       [479.85],\n",
       "       [475.75],\n",
       "       [481.5 ],\n",
       "       [484.55],\n",
       "       [478.4 ],\n",
       "       [468.55],\n",
       "       [483.7 ],\n",
       "       [477.25],\n",
       "       [474.25],\n",
       "       [464.1 ],\n",
       "       [468.4 ],\n",
       "       [463.25],\n",
       "       [479.45],\n",
       "       [484.9 ],\n",
       "       [479.9 ],\n",
       "       [493.75],\n",
       "       [508.95],\n",
       "       [503.6 ],\n",
       "       [503.05],\n",
       "       [505.15],\n",
       "       [504.4 ],\n",
       "       [503.05],\n",
       "       [504.2 ],\n",
       "       [516.2 ],\n",
       "       [515.1 ],\n",
       "       [510.65],\n",
       "       [490.9 ],\n",
       "       [500.3 ],\n",
       "       [507.2 ],\n",
       "       [517.3 ],\n",
       "       [521.6 ],\n",
       "       [520.25],\n",
       "       [516.15],\n",
       "       [509.7 ],\n",
       "       [515.15],\n",
       "       [517.1 ],\n",
       "       [514.  ],\n",
       "       [525.3 ],\n",
       "       [545.25],\n",
       "       [540.25],\n",
       "       [547.15],\n",
       "       [565.75],\n",
       "       [578.25],\n",
       "       [580.55],\n",
       "       [602.65],\n",
       "       [586.95],\n",
       "       [592.3 ],\n",
       "       [596.15],\n",
       "       [581.35],\n",
       "       [576.85],\n",
       "       [580.75],\n",
       "       [570.8 ],\n",
       "       [570.9 ],\n",
       "       [553.6 ],\n",
       "       [579.15],\n",
       "       [599.35],\n",
       "       [608.85],\n",
       "       [600.6 ],\n",
       "       [581.1 ],\n",
       "       [597.3 ],\n",
       "       [598.95],\n",
       "       [590.2 ],\n",
       "       [598.1 ],\n",
       "       [586.25],\n",
       "       [593.7 ],\n",
       "       [593.95],\n",
       "       [593.85],\n",
       "       [589.05],\n",
       "       [581.35],\n",
       "       [570.3 ],\n",
       "       [565.55],\n",
       "       [572.95],\n",
       "       [579.15],\n",
       "       [556.3 ],\n",
       "       [532.2 ],\n",
       "       [541.2 ],\n",
       "       [546.3 ],\n",
       "       [539.6 ],\n",
       "       [532.8 ],\n",
       "       [525.7 ],\n",
       "       [521.75],\n",
       "       [525.85],\n",
       "       [524.2 ],\n",
       "       [522.85],\n",
       "       [529.3 ],\n",
       "       [522.9 ],\n",
       "       [527.2 ],\n",
       "       [529.95],\n",
       "       [528.  ],\n",
       "       [529.25],\n",
       "       [523.65],\n",
       "       [507.75],\n",
       "       [522.5 ],\n",
       "       [521.5 ],\n",
       "       [517.3 ],\n",
       "       [520.8 ],\n",
       "       [528.25],\n",
       "       [532.2 ],\n",
       "       [541.6 ],\n",
       "       [543.  ],\n",
       "       [545.25],\n",
       "       [522.45],\n",
       "       [536.15],\n",
       "       [539.35],\n",
       "       [540.75],\n",
       "       [526.45],\n",
       "       [530.2 ],\n",
       "       [530.85],\n",
       "       [522.6 ],\n",
       "       [527.55],\n",
       "       [534.3 ],\n",
       "       [544.3 ],\n",
       "       [540.85],\n",
       "       [536.75],\n",
       "       [558.85],\n",
       "       [552.45],\n",
       "       [559.95],\n",
       "       [558.75],\n",
       "       [568.5 ],\n",
       "       [572.55],\n",
       "       [568.4 ],\n",
       "       [561.75],\n",
       "       [560.4 ],\n",
       "       [549.65],\n",
       "       [536.35],\n",
       "       [528.2 ],\n",
       "       [520.65],\n",
       "       [530.95],\n",
       "       [526.8 ],\n",
       "       [526.1 ],\n",
       "       [525.75],\n",
       "       [519.8 ],\n",
       "       [523.6 ],\n",
       "       [534.9 ],\n",
       "       [532.9 ],\n",
       "       [529.5 ],\n",
       "       [532.05],\n",
       "       [532.7 ],\n",
       "       [536.45],\n",
       "       [546.8 ],\n",
       "       [540.  ],\n",
       "       [545.15],\n",
       "       [540.85],\n",
       "       [539.35],\n",
       "       [542.5 ],\n",
       "       [536.75],\n",
       "       [528.65],\n",
       "       [538.75],\n",
       "       [539.6 ],\n",
       "       [536.4 ],\n",
       "       [534.05],\n",
       "       [528.75],\n",
       "       [535.1 ],\n",
       "       [531.2 ],\n",
       "       [524.95],\n",
       "       [525.65],\n",
       "       [522.65],\n",
       "       [525.  ],\n",
       "       [523.95],\n",
       "       [526.1 ],\n",
       "       [529.6 ],\n",
       "       [525.3 ],\n",
       "       [536.25],\n",
       "       [529.65],\n",
       "       [530.05],\n",
       "       [530.05],\n",
       "       [525.45],\n",
       "       [541.15],\n",
       "       [538.45],\n",
       "       [525.75],\n",
       "       [546.7 ],\n",
       "       [548.3 ],\n",
       "       [544.05],\n",
       "       [540.55],\n",
       "       [567.9 ],\n",
       "       [567.15],\n",
       "       [561.65],\n",
       "       [565.15],\n",
       "       [580.2 ],\n",
       "       [574.4 ],\n",
       "       [598.7 ],\n",
       "       [607.9 ],\n",
       "       [599.25],\n",
       "       [622.2 ],\n",
       "       [620.85],\n",
       "       [623.15],\n",
       "       [637.05],\n",
       "       [634.05],\n",
       "       [626.35],\n",
       "       [622.95],\n",
       "       [613.7 ],\n",
       "       [622.65],\n",
       "       [620.1 ],\n",
       "       [612.45],\n",
       "       [586.9 ],\n",
       "       [595.15],\n",
       "       [620.45],\n",
       "       [664.05],\n",
       "       [666.4 ],\n",
       "       [666.5 ],\n",
       "       [658.45],\n",
       "       [654.6 ],\n",
       "       [670.55],\n",
       "       [667.85],\n",
       "       [686.15],\n",
       "       [693.3 ],\n",
       "       [694.2 ],\n",
       "       [725.5 ],\n",
       "       [718.6 ],\n",
       "       [728.15],\n",
       "       [724.95],\n",
       "       [726.65],\n",
       "       [726.75],\n",
       "       [726.8 ],\n",
       "       [739.4 ],\n",
       "       [722.55],\n",
       "       [696.15],\n",
       "       [694.1 ],\n",
       "       [688.3 ],\n",
       "       [675.9 ],\n",
       "       [681.4 ],\n",
       "       [699.25],\n",
       "       [691.4 ],\n",
       "       [692.5 ],\n",
       "       [695.5 ],\n",
       "       [690.85],\n",
       "       [686.35],\n",
       "       [689.9 ],\n",
       "       [685.8 ],\n",
       "       [680.6 ],\n",
       "       [681.1 ],\n",
       "       [708.45],\n",
       "       [696.05],\n",
       "       [694.5 ],\n",
       "       [691.1 ],\n",
       "       [696.2 ],\n",
       "       [702.35],\n",
       "       [689.75],\n",
       "       [685.35],\n",
       "       [712.5 ],\n",
       "       [713.95],\n",
       "       [699.1 ],\n",
       "       [701.1 ],\n",
       "       [709.  ],\n",
       "       [713.2 ],\n",
       "       [735.45],\n",
       "       [728.6 ],\n",
       "       [743.5 ],\n",
       "       [737.55],\n",
       "       [730.3 ],\n",
       "       [720.05],\n",
       "       [714.35],\n",
       "       [742.1 ],\n",
       "       [758.9 ],\n",
       "       [758.9 ],\n",
       "       [765.15],\n",
       "       [738.75],\n",
       "       [739.35],\n",
       "       [728.25],\n",
       "       [722.25],\n",
       "       [732.55],\n",
       "       [718.35],\n",
       "       [697.6 ],\n",
       "       [698.85],\n",
       "       [715.15],\n",
       "       [713.95],\n",
       "       [710.7 ],\n",
       "       [703.1 ],\n",
       "       [691.6 ],\n",
       "       [685.45],\n",
       "       [681.4 ],\n",
       "       [666.05],\n",
       "       [658.25],\n",
       "       [667.  ],\n",
       "       [684.75],\n",
       "       [678.75],\n",
       "       [677.05],\n",
       "       [675.75],\n",
       "       [680.05],\n",
       "       [676.85],\n",
       "       [679.35],\n",
       "       [683.8 ],\n",
       "       [691.3 ],\n",
       "       [697.45],\n",
       "       [700.  ],\n",
       "       [710.4 ],\n",
       "       [704.7 ],\n",
       "       [704.95],\n",
       "       [703.45],\n",
       "       [730.2 ],\n",
       "       [731.8 ],\n",
       "       [720.6 ],\n",
       "       [728.6 ],\n",
       "       [714.35],\n",
       "       [703.7 ],\n",
       "       [715.4 ],\n",
       "       [695.25],\n",
       "       [689.9 ],\n",
       "       [711.85],\n",
       "       [707.25],\n",
       "       [715.8 ],\n",
       "       [729.3 ],\n",
       "       [723.05],\n",
       "       [725.05],\n",
       "       [721.65],\n",
       "       [720.2 ],\n",
       "       [706.5 ],\n",
       "       [708.9 ],\n",
       "       [719.35],\n",
       "       [724.05],\n",
       "       [715.15],\n",
       "       [689.7 ],\n",
       "       [711.55],\n",
       "       [721.8 ],\n",
       "       [717.  ],\n",
       "       [712.55],\n",
       "       [709.95],\n",
       "       [699.25],\n",
       "       [704.4 ],\n",
       "       [670.9 ],\n",
       "       [688.65],\n",
       "       [686.5 ],\n",
       "       [674.25],\n",
       "       [672.05],\n",
       "       [653.7 ],\n",
       "       [675.4 ],\n",
       "       [683.  ],\n",
       "       [691.5 ],\n",
       "       [697.75],\n",
       "       [694.85],\n",
       "       [700.4 ],\n",
       "       [703.1 ],\n",
       "       [712.  ],\n",
       "       [722.9 ],\n",
       "       [708.2 ],\n",
       "       [719.25],\n",
       "       [704.95],\n",
       "       [706.35],\n",
       "       [709.35],\n",
       "       [733.05],\n",
       "       [754.95],\n",
       "       [749.5 ],\n",
       "       [754.95],\n",
       "       [758.5 ],\n",
       "       [767.8 ],\n",
       "       [766.6 ],\n",
       "       [775.65],\n",
       "       [762.4 ],\n",
       "       [762.1 ],\n",
       "       [758.05],\n",
       "       [741.65],\n",
       "       [740.65],\n",
       "       [729.5 ],\n",
       "       [723.5 ],\n",
       "       [739.35],\n",
       "       [735.75],\n",
       "       [738.75],\n",
       "       [739.35],\n",
       "       [756.3 ],\n",
       "       [752.5 ],\n",
       "       [747.35],\n",
       "       [739.  ],\n",
       "       [741.35],\n",
       "       [722.4 ],\n",
       "       [718.95],\n",
       "       [710.25],\n",
       "       [711.5 ],\n",
       "       [719.65],\n",
       "       [722.85],\n",
       "       [705.4 ],\n",
       "       [689.9 ],\n",
       "       [693.2 ],\n",
       "       [707.05],\n",
       "       [696.15],\n",
       "       [674.25],\n",
       "       [687.9 ],\n",
       "       [685.85],\n",
       "       [678.2 ],\n",
       "       [688.2 ],\n",
       "       [693.65],\n",
       "       [684.4 ],\n",
       "       [699.05],\n",
       "       [700.2 ],\n",
       "       [694.65],\n",
       "       [695.95],\n",
       "       [686.5 ],\n",
       "       [682.95],\n",
       "       [685.3 ],\n",
       "       [663.3 ],\n",
       "       [676.35],\n",
       "       [673.35],\n",
       "       [671.3 ],\n",
       "       [682.05],\n",
       "       [682.1 ],\n",
       "       [654.2 ],\n",
       "       [643.65],\n",
       "       [640.9 ],\n",
       "       [654.3 ],\n",
       "       [642.85],\n",
       "       [660.2 ],\n",
       "       [671.2 ],\n",
       "       [683.95],\n",
       "       [681.15],\n",
       "       [687.8 ],\n",
       "       [684.95],\n",
       "       [673.45],\n",
       "       [681.9 ],\n",
       "       [684.45],\n",
       "       [693.95],\n",
       "       [686.8 ],\n",
       "       [695.15],\n",
       "       [660.55],\n",
       "       [663.  ],\n",
       "       [643.5 ],\n",
       "       [641.65],\n",
       "       [651.8 ],\n",
       "       [663.05],\n",
       "       [672.9 ],\n",
       "       [670.65],\n",
       "       [678.35],\n",
       "       [678.85],\n",
       "       [678.4 ],\n",
       "       [684.1 ],\n",
       "       [674.9 ],\n",
       "       [666.85],\n",
       "       [677.95],\n",
       "       [694.45],\n",
       "       [686.8 ],\n",
       "       [693.15],\n",
       "       [694.3 ],\n",
       "       [703.65],\n",
       "       [704.35],\n",
       "       [715.25],\n",
       "       [709.8 ],\n",
       "       [709.7 ]])"
      ]
     },
     "execution_count": 41,
     "metadata": {},
     "output_type": "execute_result"
    }
   ],
   "source": [
    "df_array=np.array(airtel_close)\n",
    "df_array"
   ]
  },
  {
   "cell_type": "code",
   "execution_count": 42,
   "id": "dce2cd13",
   "metadata": {},
   "outputs": [],
   "source": [
    "full_data=pd.DataFrame(np.concatenate((df_array.flatten(),forecast.flatten())))"
   ]
  },
  {
   "cell_type": "code",
   "execution_count": 43,
   "id": "c7132de5",
   "metadata": {},
   "outputs": [
    {
     "data": {
      "text/plain": [
       "<AxesSubplot:>"
      ]
     },
     "execution_count": 43,
     "metadata": {},
     "output_type": "execute_result"
    },
    {
     "data": {
      "image/png": "[encoded data removed]",
      "text/plain": [
       "<Figure size 432x288 with 1 Axes>"
      ]
     },
     "metadata": {
      "needs_background": "light"
     },
     "output_type": "display_data"
    }
   ],
   "source": [
    "full_data.plot()"
   ]
  },
  {
   "cell_type": "code",
   "execution_count": 44,
   "id": "f1519b78",
   "metadata": {},
   "outputs": [],
   "source": [
    "from tensorflow.keras.callbacks import EarlyStopping\n",
    "early_stop=EarlyStopping(monitor='val_loss',patience=2)"
   ]
  },
  {
   "cell_type": "code",
   "execution_count": 45,
   "id": "a2877d10",
   "metadata": {},
   "outputs": [],
   "source": [
    "length =16\n",
    "generator = TimeseriesGenerator(scaled_train,scaled_train,length=length,\n",
    "                                batch_size=32 )\n",
    "validation_generator=TimeseriesGenerator(scaled_test,scaled_test,length=length,\n",
    "                                batch_size=32 )"
   ]
  },
  {
   "cell_type": "code",
   "execution_count": 46,
   "id": "4b381995",
   "metadata": {},
   "outputs": [],
   "source": [
    "model= Sequential()\n",
    "\n",
    "model.add(LSTM(30,input_shape=(length,n_features)))\n",
    "model.add(Dropout(rate=0.2))\n",
    "model.add(Dense(1))\n",
    "model.compile(optimizer='adam',loss='mse')"
   ]
  },
  {
   "cell_type": "code",
   "execution_count": 47,
   "id": "83292938",
   "metadata": {
    "scrolled": true
   },
   "outputs": [
    {
     "name": "stdout",
     "output_type": "stream",
     "text": [
      "Epoch 1/20\n"
     ]
    },
    {
     "name": "stderr",
     "output_type": "stream",
     "text": [
      "C:\\Users\\a\\AppData\\Local\\Temp\\ipykernel_16212\\399513501.py:1: UserWarning: `Model.fit_generator` is deprecated and will be removed in a future version. Please use `Model.fit`, which supports generators.\n",
      "  model.fit_generator(generator,epochs=20,validation_data=validation_generator,\n"
     ]
    },
    {
     "name": "stdout",
     "output_type": "stream",
     "text": [
      "15/15 [==============================] - 7s 125ms/step - loss: 0.1516 - val_loss: 0.1070\n",
      "Epoch 2/20\n",
      "15/15 [==============================] - 0s 19ms/step - loss: 0.0127 - val_loss: 5.1716e-05\n",
      "Epoch 3/20\n",
      "15/15 [==============================] - 0s 20ms/step - loss: 0.0220 - val_loss: 0.0095\n",
      "Epoch 4/20\n",
      "15/15 [==============================] - 0s 19ms/step - loss: 0.0173 - val_loss: 0.0051\n"
     ]
    },
    {
     "data": {
      "text/plain": [
       "<keras.callbacks.History at 0x2829b7daf70>"
      ]
     },
     "execution_count": 47,
     "metadata": {},
     "output_type": "execute_result"
    }
   ],
   "source": [
    "model.fit_generator(generator,epochs=20,validation_data=validation_generator,\n",
    "                    callbacks=[early_stop],shuffle=False)"
   ]
  },
  {
   "cell_type": "code",
   "execution_count": 48,
   "id": "9a571fd5",
   "metadata": {},
   "outputs": [
    {
     "data": {
      "text/plain": [
       "<AxesSubplot:>"
      ]
     },
     "execution_count": 48,
     "metadata": {},
     "output_type": "execute_result"
    },
    {
     "data": {
      "image/png": "[encoded data removed]",
      "text/plain": [
       "<Figure size 432x288 with 1 Axes>"
      ]
     },
     "metadata": {
      "needs_background": "light"
     },
     "output_type": "display_data"
    }
   ],
   "source": [
    "losses=pd.DataFrame(model.history.history)\n",
    "losses.plot()"
   ]
  },
  {
   "cell_type": "code",
   "execution_count": 49,
   "id": "7939e776",
   "metadata": {},
   "outputs": [
    {
     "name": "stdout",
     "output_type": "stream",
     "text": [
      "1/1 [==============================] - 2s 2s/step\n",
      "1/1 [==============================] - 0s 50ms/step\n",
      "1/1 [==============================] - 0s 46ms/step\n",
      "1/1 [==============================] - 0s 45ms/step\n",
      "1/1 [==============================] - 0s 48ms/step\n",
      "1/1 [==============================] - 0s 47ms/step\n",
      "1/1 [==============================] - 0s 46ms/step\n",
      "1/1 [==============================] - 0s 53ms/step\n",
      "1/1 [==============================] - 0s 50ms/step\n",
      "1/1 [==============================] - 0s 55ms/step\n",
      "1/1 [==============================] - 0s 39ms/step\n",
      "1/1 [==============================] - 0s 49ms/step\n",
      "1/1 [==============================] - 0s 43ms/step\n",
      "1/1 [==============================] - 0s 44ms/step\n",
      "1/1 [==============================] - 0s 40ms/step\n",
      "1/1 [==============================] - 0s 49ms/step\n",
      "1/1 [==============================] - 0s 43ms/step\n"
     ]
    }
   ],
   "source": [
    "test_predictions=[]\n",
    "first_eval_batch=scaled_train[-length:]\n",
    "current_batch=first_eval_batch.reshape((1,length,1))\n",
    "for i in range(len(test)):\n",
    "    current_pred=model.predict(current_batch)[0]\n",
    "    test_predictions.append(current_pred)\n",
    "    current_batch=np.append(current_batch[:,1:,:],[[current_pred]],axis=1)"
   ]
  },
  {
   "cell_type": "code",
   "execution_count": 50,
   "id": "de8922c6",
   "metadata": {},
   "outputs": [],
   "source": [
    "true_predictions=scaler.inverse_transform(test_predictions)"
   ]
  },
  {
   "cell_type": "code",
   "execution_count": 51,
   "id": "c865349e",
   "metadata": {},
   "outputs": [
    {
     "data": {
      "text/plain": [
       "array([[662.15517356],\n",
       "       [661.58961878],\n",
       "       [660.8974365 ],\n",
       "       [660.30167224],\n",
       "       [659.85006193],\n",
       "       [659.35794704],\n",
       "       [658.87964156],\n",
       "       [658.35565015],\n",
       "       [657.92467511],\n",
       "       [657.44627951],\n",
       "       [657.27205124],\n",
       "       [657.05632718],\n",
       "       [656.99115491],\n",
       "       [656.9143584 ],\n",
       "       [656.74028783],\n",
       "       [656.48058994],\n",
       "       [656.1605632 ]])"
      ]
     },
     "execution_count": 51,
     "metadata": {},
     "output_type": "execute_result"
    }
   ],
   "source": [
    "true_predictions"
   ]
  },
  {
   "cell_type": "code",
   "execution_count": 52,
   "id": "61f533ab",
   "metadata": {},
   "outputs": [
    {
     "name": "stderr",
     "output_type": "stream",
     "text": [
      "C:\\Users\\a\\AppData\\Local\\Temp\\ipykernel_16212\\1803299671.py:1: SettingWithCopyWarning: \n",
      "A value is trying to be set on a copy of a slice from a DataFrame.\n",
      "Try using .loc[row_indexer,col_indexer] = value instead\n",
      "\n",
      "See the caveats in the documentation: https://pandas.pydata.org/pandas-docs/stable/user_guide/indexing.html#returning-a-view-versus-a-copy\n",
      "  test['LSTM predictions']=true_predictions\n"
     ]
    },
    {
     "data": {
      "text/plain": [
       "<AxesSubplot:>"
      ]
     },
     "execution_count": 52,
     "metadata": {},
     "output_type": "execute_result"
    },
    {
     "data": {
      "image/png": "[encoded data removed]",
      "text/plain": [
       "<Figure size 864x576 with 1 Axes>"
      ]
     },
     "metadata": {
      "needs_background": "light"
     },
     "output_type": "display_data"
    }
   ],
   "source": [
    "test['LSTM predictions']=true_predictions\n",
    "test.plot(figsize=(12,8))"
   ]
  },
  {
   "cell_type": "code",
   "execution_count": 53,
   "id": "13f65785",
   "metadata": {},
   "outputs": [
    {
     "name": "stdout",
     "output_type": "stream",
     "text": [
      "1/1 [==============================] - 0s 53ms/step\n",
      "1/1 [==============================] - 0s 44ms/step\n",
      "1/1 [==============================] - 0s 46ms/step\n",
      "1/1 [==============================] - 0s 41ms/step\n",
      "1/1 [==============================] - 0s 41ms/step\n",
      "1/1 [==============================] - 0s 47ms/step\n",
      "1/1 [==============================] - 0s 39ms/step\n",
      "1/1 [==============================] - 0s 40ms/step\n",
      "1/1 [==============================] - 0s 47ms/step\n",
      "1/1 [==============================] - 0s 52ms/step\n",
      "1/1 [==============================] - 0s 48ms/step\n",
      "1/1 [==============================] - 0s 47ms/step\n",
      "1/1 [==============================] - 0s 45ms/step\n",
      "1/1 [==============================] - 0s 42ms/step\n",
      "1/1 [==============================] - 0s 40ms/step\n"
     ]
    }
   ],
   "source": [
    "forecast=[]\n",
    "first_eval_batch=scaled_train[-length:]\n",
    "current_batch=first_eval_batch.reshape((1,length,n_features))\n",
    "for i in range(15):\n",
    "    current_pred=model.predict(current_batch)[0]\n",
    "    forecast.append(current_pred)\n",
    "    current_batch=np.append(current_batch[:,1:,:],[[current_pred]],axis=1)"
   ]
  },
  {
   "cell_type": "code",
   "execution_count": 54,
   "id": "1b2d6ee1",
   "metadata": {},
   "outputs": [],
   "source": [
    "forecast=scaler.inverse_transform(forecast)"
   ]
  },
  {
   "cell_type": "code",
   "execution_count": 55,
   "id": "eed79f1a",
   "metadata": {},
   "outputs": [],
   "source": [
    "full_data=pd.DataFrame(np.concatenate((df_array.flatten(),forecast.flatten())))"
   ]
  },
  {
   "cell_type": "code",
   "execution_count": 56,
   "id": "ae1c8449",
   "metadata": {},
   "outputs": [
    {
     "data": {
      "text/plain": [
       "<AxesSubplot:>"
      ]
     },
     "execution_count": 56,
     "metadata": {},
     "output_type": "execute_result"
    },
    {
     "data": {
      "image/png": "[encoded data removed]",
      "text/plain": [
       "<Figure size 432x288 with 1 Axes>"
      ]
     },
     "metadata": {
      "needs_background": "light"
     },
     "output_type": "display_data"
    }
   ],
   "source": [
    "full_data.plot()"
   ]
  },
  {
   "cell_type": "code",
   "execution_count": 57,
   "id": "8c7bac77",
   "metadata": {},
   "outputs": [
    {
     "data": {
      "text/plain": [
       "array([[662.15517356],\n",
       "       [661.58961878],\n",
       "       [660.8974365 ],\n",
       "       [660.30167224],\n",
       "       [659.85006193],\n",
       "       [659.35794704],\n",
       "       [658.87964156],\n",
       "       [658.35565015],\n",
       "       [657.92467511],\n",
       "       [657.44627951],\n",
       "       [657.27205124],\n",
       "       [657.05632718],\n",
       "       [656.99115491],\n",
       "       [656.9143584 ],\n",
       "       [656.74028783]])"
      ]
     },
     "execution_count": 57,
     "metadata": {},
     "output_type": "execute_result"
    }
   ],
   "source": [
    "forecast"
   ]
  },
  {
   "cell_type": "code",
   "execution_count": null,
   "id": "1ab34aa1",
   "metadata": {},
   "outputs": [],
   "source": []
  }
 ],
 "metadata": {
  "kernelspec": {
   "display_name": "Python 3 (ipykernel)",
   "language": "python",
   "name": "python3"
  },
  "language_info": {
   "codemirror_mode": {
    "name": "ipython",
    "version": 3
   },
   "file_extension": ".py",
   "mimetype": "text/x-python",
   "name": "python",
   "nbconvert_exporter": "python",
   "pygments_lexer": "ipython3",
   "version": "3.9.12"
  }
 },
 "nbformat": 4,
 "nbformat_minor": 5
}
